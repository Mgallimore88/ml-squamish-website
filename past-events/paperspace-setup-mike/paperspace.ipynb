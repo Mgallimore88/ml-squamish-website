{
 "cells": [
  {
   "attachments": {},
   "cell_type": "markdown",
   "id": "ae80fc0e",
   "metadata": {},
   "source": [
    "## Getting set up with Paperspace Gradient in six easy steps\n",
    "\n",
    "<!-- ![gradient]() -->\n",
    "<img src='images/logo-gr-2.png' width=\"500\">"
   ]
  },
  {
   "attachments": {},
   "cell_type": "markdown",
   "id": "7abae96a",
   "metadata": {},
   "source": [
    "# Introduction\n",
    "\n",
    "### GPU vs. CPU <br>\n",
    "- CPUs process information in series, and are very powerful. GPUs divide tasks across multiple processing units, and process them in parallel.\n",
    "- On a GPU, each processing unit is less powerful than a single processing unit of a typical CPU. \n",
    "- Some operations such as displaying pixels on a screen can run faster on a GPU if they are easily divided into a parallel process. \n",
    "\n",
    "<img src='images/A100.jpg' width=\"300\">\n",
    "\n",
    "### Why do we need a GPU to run deep learning models? <br>\n",
    "(Short answer: You don't! but it's much faster because of parallel processing on a GPU)<br>\n",
    "- Deep learning models are built using neural networks. Training of a neural network involves calculating parameters and activations at each node of the network. Since each of these operations is fairly small, they're self similar,and there are many of them, it is more efficient to run these operations in parallel on the GPU. \n",
    "\n",
    "### Why process information on the cloud vs on local machine?\n",
    "- Your machine may or may not have a GPU. \n",
    "- If you do have a GPU, it is likely that the free GPUs offered by cloud computing platforms are more powerful.\n",
    "- Deep learning can require large amounts of data, and transferring this data across internet connections and storing locally can be problematic. \n",
    "- Cloud computing lets you get set up and running code more quickly. Personal computers with Linux, windows and Mac would all have different install requirements, which takes a while to work through. \n",
    "\n",
    "<img src='images/gpus.png' width=\"400\">\n",
    "\n",
    "### Why paperspace gradient?\n",
    "- There are other options including Google Colab, Kagggle, and running locally on your machine. This is just one option. One of the advantages of Gradient is that it lets you run jupyter notebooks in their native form, whereas other platforms modify the user interface a little.\n",
    "\n"
   ]
  },
  {
   "attachments": {},
   "cell_type": "markdown",
   "id": "e335ff54",
   "metadata": {},
   "source": [
    "# 1. Set up an account at [paperspace](http://www.paperspace.com)\n",
    "http://www.paperspace.com"
   ]
  },
  {
   "attachments": {},
   "cell_type": "markdown",
   "id": "06e13b6b",
   "metadata": {},
   "source": [
    "# 2. Sign in and click 'Create A Project'\n",
    "<img src=images/create-project.png width='400'> <br>\n",
    "\n",
    "\n",
    "### Choose any name"
   ]
  },
  {
   "attachments": {},
   "cell_type": "markdown",
   "id": "a5b8025e",
   "metadata": {},
   "source": [
    "# 3. Create A Notebook\n",
    "<img src='images/create-nb.png' width=400>"
   ]
  },
  {
   "attachments": {},
   "cell_type": "markdown",
   "id": "e980cdf4",
   "metadata": {},
   "source": [
    "# 4. Choose a runtime and a GPU instance\n",
    "\n",
    "- We'll be choosing __Start From Scratch__. \n",
    "\n",
    "*This will create a jupyter notebook with some machine learning specific libraries already installed. All of the other runtimes you can see can still be installed if we select 'start from scratch', and we'll see how to do this for the fast.ai runtime which we'll use to train our model.*\n",
    "\n",
    "- Under *select a machine* choose __Free-GPU__\n",
    "\n",
    "*If this option isn't available then choose free CPU - we can always change it later*\n",
    "\n",
    "![screenshot](images/choose-instance.png)\n"
   ]
  },
  {
   "attachments": {},
   "cell_type": "markdown",
   "id": "4aa25c07",
   "metadata": {},
   "source": [
    "# 5. Switch over to Jupyter Lab by clicking the orange circle on the left. \n",
    "# 6. Then choose a Python 3 Notebook\n",
    "![jupyter lab](images/j-lab.png)\n",
    "\n"
   ]
  },
  {
   "attachments": {},
   "cell_type": "markdown",
   "id": "881552f7",
   "metadata": {},
   "source": [
    "# Great! You've just set up a remote machine on a cloud server, with access to powerful GPU processors, for free!\n",
    "\n",
    "\n",
    "\n",
    "### IPython\n",
    "- You're now in an interactive shell. \n",
    "- The file you're in is called Untitled.ipynb. \n",
    "- ipynb means interactive python notebook. \n",
    "- Commands typed into the cell will be interpreted by a python interpreter if you press __SHIFT + RETURN__. Try it!\n",
    "- Try typing some of the following commands then executing them using shift + enter:"
   ]
  },
  {
   "cell_type": "code",
   "execution_count": 8,
   "id": "68f1f37a",
   "metadata": {},
   "outputs": [
    {
     "data": {
      "text/plain": [
       "2"
      ]
     },
     "execution_count": 8,
     "metadata": {},
     "output_type": "execute_result"
    }
   ],
   "source": [
    "1 + 1"
   ]
  },
  {
   "cell_type": "code",
   "execution_count": 9,
   "id": "019cc771",
   "metadata": {},
   "outputs": [
    {
     "data": {
      "text/plain": [
       "8"
      ]
     },
     "execution_count": 9,
     "metadata": {},
     "output_type": "execute_result"
    }
   ],
   "source": [
    "x = 4\n",
    "x * 2"
   ]
  },
  {
   "attachments": {},
   "cell_type": "markdown",
   "id": "7ed12ad4",
   "metadata": {},
   "source": [
    "The above cells executed python code using a python interpreter. \n",
    "\n",
    "We can also execute code on the computer's bash terminal: try these"
   ]
  },
  {
   "cell_type": "markdown",
   "id": "e45fa26e",
   "metadata": {},
   "source": [
    "`!ls` <br>\n"
   ]
  },
  {
   "attachments": {},
   "cell_type": "markdown",
   "id": "c8d8fea0",
   "metadata": {},
   "source": [
    "The ! sends the code to the computer's bash shell interpreter instead of the python interpreter. "
   ]
  },
  {
   "attachments": {},
   "cell_type": "markdown",
   "id": "3c4c26be",
   "metadata": {},
   "source": [
    "`!ls ..`<br>\n",
    "`!ls ../..`"
   ]
  },
  {
   "attachments": {},
   "cell_type": "markdown",
   "id": "385d4384",
   "metadata": {},
   "source": [
    "### Markdown\n",
    "\n",
    "The type of cell can be changed from a code cell into a markdown cell where we can write notes, display images, links etc. \n",
    "\n",
    "Try hitting esc, then pressing m. Cell contents will now be displayed as markdown. \n",
    "\n",
    "To get back to code mode, hit esc, then press y"
   ]
  },
  {
   "attachments": {},
   "cell_type": "markdown",
   "id": "6ce65d89",
   "metadata": {},
   "source": [
    "### Explore the environment:\n",
    "Try some of the following commands one by one to see what happens. \n",
    "\n",
    "`!ls`<br>\n",
    "`!ls ..`<br>\n",
    "`!python --version`\n",
    "`!pip install torch`<br>\n",
    "`!pip list`<br>\n",
    "\n",
    "`import numpy as np`\n",
    "\n",
    "`np.random.randn(6)`"
   ]
  },
  {
   "attachments": {},
   "cell_type": "markdown",
   "id": "66265f9d",
   "metadata": {},
   "source": [
    "# Conclusion\n",
    "\n",
    "Getting set up with cloud computing services can seem daunting at first, but it's actually pretty straightforward. \n",
    "\n",
    "You can run all the same code on your laptop or on any other notebook hosting service. \n",
    "\n",
    "In the next section we'll write code in python and take advantage of some libraries which will let us train a deep learning model using the GPU we now have access to. "
   ]
  }
 ],
 "metadata": {
  "kernelspec": {
   "display_name": "fastai",
   "language": "python",
   "name": "python3"
  },
  "language_info": {
   "codemirror_mode": {
    "name": "ipython",
    "version": 3
   },
   "file_extension": ".py",
   "mimetype": "text/x-python",
   "name": "python",
   "nbconvert_exporter": "python",
   "pygments_lexer": "ipython3",
   "version": "3.10.5"
  },
  "vscode": {
   "interpreter": {
    "hash": "26cd0e2c9295388c095d1ce0b259d840bdc0e5c15d90ed1ffd64bc6c1c0f0e79"
   }
  }
 },
 "nbformat": 4,
 "nbformat_minor": 5
}
