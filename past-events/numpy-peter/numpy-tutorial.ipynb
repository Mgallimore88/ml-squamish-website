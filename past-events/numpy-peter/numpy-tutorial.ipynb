{
  "cells": [
    {
      "cell_type": "raw",
      "metadata": {
        "vscode": {
          "languageId": "raw"
        }
      },
      "source": [
        "---\n",
        "title: \"Numpy deep dive\"\n",
        "author: \"Peter O'Connor\"\n",
        "date: \"2022-12-21\"\n",
        "categories: [numpy, talk]\n",
        "image: \"numpy.png\"\n",
        "render: false\n",
        "---\n",
        "\n",
        "![numpylogo](numpy.png)\n",
        "\n",
        "This evening Peter hosted a talk on NumPy, a python numeric processing package which runs on C under the hood. \n",
        "\n",
        "\n",
        "Peter made a notebook accompanying this talk; check it out here!\n",
        "[notebook](numpy-tutorial.ipynb)"
      ]
    },
    {
      "cell_type": "markdown",
      "metadata": {
        "id": "m0DSPWYwTDBh"
      },
      "source": [
        "# What's this all about?\n",
        "\n",
        "A low level intro to the use of numerical libraries (mainly Pytorch but also Numpy and Tensorflow) for machine learning.\n",
        "\n",
        "## Goal of this lecture\n",
        "\n",
        "1. Get everyone familiar with the basics of array-manipulation. \n",
        "2. Make sure even those people already familiar learn something new.\n",
        "3. Introduce pytorch from the bottom-up.\n",
        "\n",
        "\n",
        "## Array libraries - what are they?  \n",
        "\n",
        "Libraries like Numpy, PyTorch, and Tensorflow use `N-dimensional arrays` as a basic datatype.   They allow you to manipulate arrays much more compactily and faster than if you were to use native python.  Behind the scenes, they do all the looping in C - which will typically be around 20-100x faster than doing it in python.\n",
        "\n"
      ]
    },
    {
      "cell_type": "code",
      "execution_count": null,
      "metadata": {
        "colab": {
          "base_uri": "https://localhost:8080/"
        },
        "id": "p-d4AZOGbN0Y",
        "outputId": "0eb3d84a-6828-479f-e8b2-5db7cfbf16c2"
      },
      "outputs": [
        {
          "name": "stdout",
          "output_type": "stream",
          "text": [
            "With python looping: t=9.208, with numpy looping: t=0.352.  Speedup factor: 26x\n"
          ]
        }
      ],
      "source": [
        "from timeit import timeit\n",
        "t1=timeit(\"sum(ai*bi for ai, bi in zip(a, b))\", setup=\"import random; N=10000000; a=[random.gauss(0, 1) for _ in range(N)]; b=[random.gauss(0, 1) for _ in range(N)]\", number = 10)\n",
        "t2=timeit(\"(a*b).sum()\", setup=\"import numpy as np; N=10000000; a, b = np.random.randn(2, N)\", number = 10)\n",
        "print(f\"With python looping: t={t1:.3f}, with numpy looping: t={t2:.3f}.  Speedup factor: {t1/t2:.0f}x\")"
      ]
    },
    {
      "cell_type": "markdown",
      "metadata": {
        "id": "-HAowneqcLtF"
      },
      "source": [
        "\n",
        "# Example - 2 blobs of points\n",
        "\n",
        "Lets create a random set of N (x, y) points \"A\" from a standard normal distribution, and another set of M (x, y) points \"B\" from a normal distribution centered around (x=3, y=2).  Then join them into one big set of points C, and find the matrix of distances \"D\" between each pair of points.\n",
        "\n",
        "**Mathematically, we could denote this:**\n",
        "\n",
        "$a \\in \\mathbb R ^{N \\times 2}: a_{n,i} \\sim \\mathcal N(\\mu_a, 1): \\mu_a := (0, 0)$\n",
        "\n",
        "$b \\in \\mathbb R ^{M \\times 2}: b_{m,j} \\sim \\mathcal N(\\mu_a, 1): \\mu_b:=(5, 2)$\n",
        "\n",
        "$c \\in \\mathbb R ^{(N+M) \\times 2}: c_{k, d} : = \\begin{cases}a_{k, d} & \\text{if } (k\\leq N) \\\\ b_{k-N, d} & \\text{otherwise} \\end{cases}$\n",
        "\n",
        "$d \\in \\mathbb R_{\\geq0}^{(N+M) \\times (N+M)} : d_{i,j} := \\sqrt{\\sum_{d=1}^2 (c_{i,d}-c_{j,d})^2}$\n"
      ]
    },
    {
      "cell_type": "code",
      "execution_count": null,
      "metadata": {
        "id": "4dUBmG3shmDO"
      },
      "outputs": [],
      "source": [
        "# Setup \n",
        "N = 5\n",
        "M = 7\n",
        "D = 2\n",
        "mu_a = (0, 0)\n",
        "mu_b = (5, 2)"
      ]
    },
    {
      "cell_type": "code",
      "execution_count": null,
      "metadata": {
        "colab": {
          "base_uri": "https://localhost:8080/"
        },
        "id": "yl1b-BFYVeI6",
        "outputId": "a86ce82f-0501-481c-9d57-264d8c1098c7"
      },
      "outputs": [
        {
          "name": "stdout",
          "output_type": "stream",
          "text": [
            "A: \n",
            "-0.93\t-0.36\n",
            "-0.51\t-0.11\n",
            "0.29\t-0.82\n",
            "-0.45\t0.97\n",
            "0.40\t-0.63\n",
            "\n",
            "B: \n",
            "4.27\t1.18\n",
            "4.84\t2.53\n",
            "5.20\t2.60\n",
            "4.41\t1.04\n",
            "4.36\t3.55\n",
            "4.90\t1.31\n",
            "3.90\t1.74\n",
            "\n",
            "C: \n",
            "-0.93\t-0.36\n",
            "-0.51\t-0.11\n",
            "0.29\t-0.82\n",
            "-0.45\t0.97\n",
            "0.40\t-0.63\n",
            "4.27\t1.18\n",
            "4.84\t2.53\n",
            "5.20\t2.60\n",
            "4.41\t1.04\n",
            "4.36\t3.55\n",
            "4.90\t1.31\n",
            "3.90\t1.74\n",
            "\n",
            "D: \n",
            "0.00\t0.48\t1.30\t1.41\t1.36\t5.42\t6.45\t6.80\t5.52\t6.57\t6.06\t5.26\n",
            "0.48\t0.00\t1.07\t1.08\t1.05\t4.95\t5.97\t6.32\t5.06\t6.09\t5.60\t4.78\n",
            "1.30\t1.07\t0.00\t1.94\t0.22\t4.45\t5.65\t5.98\t4.52\t5.97\t5.08\t4.42\n",
            "1.41\t1.08\t1.94\t0.00\t1.81\t4.72\t5.52\t5.88\t4.87\t5.46\t5.37\t4.42\n",
            "1.36\t1.05\t0.22\t1.81\t0.00\t4.27\t5.45\t5.78\t4.34\t5.75\t4.90\t4.22\n",
            "5.42\t4.95\t4.45\t4.72\t4.27\t0.00\t1.47\t1.70\t0.20\t2.37\t0.65\t0.67\n",
            "6.45\t5.97\t5.65\t5.52\t5.45\t1.47\t0.00\t0.36\t1.55\t1.13\t1.22\t1.23\n",
            "6.80\t6.32\t5.98\t5.88\t5.78\t1.70\t0.36\t0.00\t1.75\t1.26\t1.33\t1.56\n",
            "5.52\t5.06\t4.52\t4.87\t4.34\t0.20\t1.55\t1.75\t0.00\t2.51\t0.56\t0.87\n",
            "6.57\t6.09\t5.97\t5.46\t5.75\t2.37\t1.13\t1.26\t2.51\t0.00\t2.31\t1.87\n",
            "6.06\t5.60\t5.08\t5.37\t4.90\t0.65\t1.22\t1.33\t0.56\t2.31\t0.00\t1.10\n",
            "5.26\t4.78\t4.42\t4.42\t4.22\t0.67\t1.23\t1.56\t0.87\t1.87\t1.10\t0.00\n",
            "\n"
          ]
        }
      ],
      "source": [
        "# Example 1: Native python in long-form\n",
        "import random\n",
        "\n",
        "def matrix_to_string(arr): \n",
        "  string_rep = \"\"\n",
        "  for row in arr: \n",
        "    string_rep+=\"\\t\".join(f\"{x:.2f}\" for x in row) + \"\\n\"\n",
        "  return string_rep\n",
        "\n",
        "points_a = []\n",
        "for n in range(N): \n",
        "  row = []\n",
        "  for d in range(D): \n",
        "    row.append(random.gauss(mu_a[d], 1))\n",
        "  points_a.append(row)\n",
        "print(f\"A: \\n{matrix_to_string(points_a)}\")\n",
        "\n",
        "points_b = []\n",
        "for j in range(M): \n",
        "  row = []\n",
        "  for d in range(D): \n",
        "    row.append(random.gauss(mu_b[d], 1))\n",
        "  points_b.append(row)\n",
        "print(f\"B: \\n{matrix_to_string(points_b)}\")\n",
        "\n",
        "points_c = points_a + points_b  # Note: Since these are lists, \"+\" means \"concatenation\"\n",
        "print(f\"C: \\n{matrix_to_string(points_c)}\")\n",
        "\n",
        "distance_mat = []\n",
        "for i in range(len(points_c)): \n",
        "  row = []\n",
        "  for j in range(len(points_c)):\n",
        "    distance_sq = 0\n",
        "    for d in range(D):\n",
        "      distance_sq += (points_c[i][d]-points_c[j][d])**2\n",
        "    row.append(distance_sq**0.5)\n",
        "  distance_mat.append(row)\n",
        "print(f\"D: \\n{matrix_to_string(distance_mat)}\")\n"
      ]
    },
    {
      "cell_type": "code",
      "execution_count": null,
      "metadata": {
        "colab": {
          "base_uri": "https://localhost:8080/",
          "height": 294
        },
        "id": "sOWEE_6HWkqy",
        "outputId": "dfc8761d-7b1f-432b-806f-bb56d2c8edb8"
      },
      "outputs": [
        {
          "data": {
            "image/png": "[encoded data removed]",
            "text/plain": [
              "<Figure size 432x288 with 1 Axes>"
            ]
          },
          "metadata": {
            "needs_background": "light"
          },
          "output_type": "display_data"
        },
        {
          "data": {
            "image/png": "[encoded data removed]",
            "text/plain": [
              "<Figure size 432x288 with 1 Axes>"
            ]
          },
          "metadata": {
            "needs_background": "light"
          },
          "output_type": "display_data"
        }
      ],
      "source": [
        "import matplotlib.pyplot as plt\n",
        "import numpy as np\n",
        "\n",
        "\n",
        "def plot_everything(points_a, points_b, distances, show=True): \n",
        "  points_a = np.asarray(points_a)\n",
        "  points_b = np.asarray(points_b)\n",
        "  distances = np.asarray(distances)\n",
        "  plt.subplot(2, 1, 1)\n",
        "  plt.plot(points_a[:, 0], points_a[:, 1], label=\"A\", linestyle='', marker='o')\n",
        "  plt.plot(points_b[:, 0], points_b[:, 1], label=\"B\", linestyle='', marker='o')\n",
        "  plt.legend()\n",
        "  plt.show()\n",
        "  plt.subplot(2, 1, 2)\n",
        "  plt.imshow(distances)\n",
        "  plt.title(\"Pairwise Distances\")\n",
        "  if show:\n",
        "    plt.show()\n",
        "\n",
        "\n",
        "plot_everything(points_a, points_b, distance_mat)"
      ]
    },
    {
      "cell_type": "markdown",
      "metadata": {
        "id": "UvpIgN6Lg8wu"
      },
      "source": [
        "# So much code!\n",
        "\n",
        "The math described the same things as the code, but it came in 4 compact lines, vs 40 lines of code!  Can't we make the code more compact?\n",
        "\n",
        "If only there was some way to compress things into a list so we could comprehend it more easily....\n",
        "\n",
        "If only there was something like..."
      ]
    },
    {
      "cell_type": "code",
      "execution_count": null,
      "metadata": {
        "colab": {
          "base_uri": "https://localhost:8080/",
          "height": 294
        },
        "id": "XFbBECsXg7by",
        "outputId": "8cbc4922-5ad2-4198-9b13-bad3821414f1"
      },
      "outputs": [
        {
          "data": {
            "image/png": "[encoded data removed]",
            "text/plain": [
              "<Figure size 432x288 with 1 Axes>"
            ]
          },
          "metadata": {
            "needs_background": "light"
          },
          "output_type": "display_data"
        },
        {
          "data": {
            "image/png": "[encoded data removed]",
            "text/plain": [
              "<Figure size 432x288 with 1 Axes>"
            ]
          },
          "metadata": {
            "needs_background": "light"
          },
          "output_type": "display_data"
        }
      ],
      "source": [
        "# List comprehensions!\n",
        "a = [[random.gauss(mu_a[d], 1) for d in range(D)] for n in range(N)]\n",
        "b = [[random.gauss(mu_b[d], 1) for d in range(D)] for n in range(M)]\n",
        "c = points_a + points_b  # Note: Since these are lists, \"+\" means \"concatenation\"\n",
        "d = [[sum((cid-cjd)**2 for cid, cjd in zip(ci, cj))**.5 for ci in c] for cj in c]\n",
        "\n",
        "plot_everything(a, b, d)"
      ]
    },
    {
      "cell_type": "markdown",
      "metadata": {
        "id": "Y2TRJ-dUjTV0"
      },
      "source": [
        "# Ok, that's nice, but still...\n",
        "\n",
        "That comprehension syntax is... difficult to parse.\n",
        "\n",
        "```\n",
        "d = [[sum((cid-cjd)**2 for cid, cjd in zip(ci, cj))**.5 for ci in c] for cj in c]\n",
        "```\n",
        "... doesn't exactly roll of the tongue.\n",
        "\n",
        "If only there were some more compact syntax for doing all these operations without the comprehension and looping... \n",
        "\n",
        "If only there was something like ..."
      ]
    },
    {
      "cell_type": "code",
      "execution_count": null,
      "metadata": {
        "colab": {
          "base_uri": "https://localhost:8080/",
          "height": 294
        },
        "id": "_xQxQaj2jmgK",
        "outputId": "98cabca4-a4b2-49df-fcf7-9146b031425d"
      },
      "outputs": [
        {
          "data": {
            "image/png": "[encoded data removed]",
            "text/plain": [
              "<Figure size 432x288 with 1 Axes>"
            ]
          },
          "metadata": {
            "needs_background": "light"
          },
          "output_type": "display_data"
        },
        {
          "data": {
            "image/png": "[encoded data removed]",
            "text/plain": [
              "<Figure size 432x288 with 1 Axes>"
            ]
          },
          "metadata": {
            "needs_background": "light"
          },
          "output_type": "display_data"
        }
      ],
      "source": [
        "# Numpy!\n",
        "import numpy as np\n",
        "a = np.random.randn(N, D) + mu_a\n",
        "b = np.random.randn(M, D) + mu_b\n",
        "c = np.concatenate([points_a, points_b], axis=0)  # Note: \"+\" on numpy arrays means addition, not concatenation, so we use np.concatenate\n",
        "d = ((c[:, None, :]-c[None, :, :])**2).sum(axis=2)**.5\n",
        "plot_everything(a, b, d)"
      ]
    },
    {
      "cell_type": "markdown",
      "metadata": {
        "id": "zjVqYFrkknN-"
      },
      "source": [
        "# What just happened?\n",
        "\n",
        "```\n",
        "points_a = np.random.randn(N, D) + mu_a\n",
        "```\n",
        "\n",
        "* `np.random.randn(N, D)` Created a NxD array of normally-distributed random numbers\n",
        "* `+ mu_a` added a (D-dimensional array of means).  \n",
        "\n",
        "\n",
        "**Rule of broadcasting**: When 2 arguments don't have same number of dimensions, you line up the lower dimensional one to the LAST dimensions of the higher. \n",
        "\n",
        "So say we add a shape (3, 2) array x to a shape (2, ) array y:\n",
        "\n",
        "```\n",
        "[ x[0,0]  x[0,1] ]   +   [ y[0]  y[1] ]\n",
        "[ x[1,0]  x[1,1] ]\n",
        "[ x[2,0]  x[2,1] ]\n",
        "\n",
        "... causes y to be broadcasted to the shape of x... \n",
        "\n",
        "[ x[0,0]  x[0,1] ]   +   [ y[0]  y[1] ]\n",
        "[ x[1,0]  x[1,1] ]   +   [ y[0]  y[1] ]\n",
        "[ x[2,0]  x[2,1] ]   +   [ y[0]  y[1] ]\n",
        "\n",
        "... resulting in ...\n",
        "\n",
        "[ x[0,0]+y[0]  x[0,1]+y[1] ]\n",
        "[ x[1,0]+y[0]  x[1,1]+y[1] ]\n",
        "[ x[2,0]+y[0]  x[2,1]+y[1] ]  \n",
        "\n",
        "```\n",
        "\n",
        "Broadcasting quiz...  Predict shapes of the result of `a+b`, or error if there is one, when\n",
        "\n",
        "```\n",
        "a.shape==(3, 2), b.shape=(2, ) ...  (3, 2)\n",
        "\n",
        "a.shape==(3, 2), b.shape=(3, ) ... error\n",
        "\n",
        "a.shape==(3, 2), b.shape=(3, 1) ... (3, 2)\n",
        "\n",
        "a.shape==(3, 2), b.shape=() ...(3, 2)\n",
        "\n",
        "a.shape==(3, 2), b.shape=(1, 2) ... (3, 2)\n",
        "\n",
        "a.shape==(1, 2), b.shape=(2, ) ... (1, 2)\n",
        "\n",
        "a.shape==(1, 2), b.shape=(3, 2) ...(3, 2)\n",
        "\n",
        "a.shape==(2, ), b.shape=(3, 2) ... (3, 2)\n",
        "\n",
        "a.shape==(2, ), b.shape=(3, ) ... error\n",
        "\n",
        "a.shape==(3, ), b.shape=(3, ) ... (3, )\n",
        "\n",
        "a.shape==(), b.shape=(3, ) ...\n",
        "\n",
        "a.shape==(3, 1, 2), b.shape=(2, ) ... (3, 1, 2)\n",
        "\n",
        "a.shape==(3, 1, 2), b.shape=(3, 2) .. (3, 3, 2). --. b-> (1, 3, 2)   a-> (3, 3, 2)\n",
        "\n",
        "a.shape==(3, 2, 2), b.shape=(3, 2) ...err\n",
        "\n",
        "a.shape==(3, 1, 2), b.shape=(1, 3, 2) ...(3, 3, 2)\n",
        "```\n",
        "\n",
        "Continuing through what just happened...\n",
        "\n",
        "`points_c = np.concatenate([points_a, points_b], axis=0)`\n",
        "\n",
        "* We take our `Nx2` and `Mx2` array, and concatenate them across the 0'th axis to form a `(N+M)x2` array\n",
        "\n",
        "**Quiz Question**\n",
        "\n",
        "What would \n",
        "`points_c = np.concatenate([points_a, points_b], axis=1)`\n",
        "do?\n",
        "... error\n",
        "\n",
        "Moving on...\n",
        "\n",
        "`points_c[:, None, :]`\n",
        "\n",
        "\n",
        "\n",
        "* `None` or equivalently `np.newaxis` inserts a singleton dimension.  i.e. if `points_c` has shape `(C, 2)`, then `points_c[:, None, :]` (or `points_c[:, np.newaxis, :]`) has shape `(C, 1, 2)`.\n",
        "\n",
        "* That sets us up for broadcasting\n",
        "\n",
        "\n",
        "**Quiz Question**\n",
        "c.shape == (C, 2)\n",
        "\n",
        "1. What shape does `points_c[:, None, :]` have? .. (C, 1, 2)\n",
        "\n",
        "1. What shape does `points_c[None, :, :]` have?  (1, C, 2)\n",
        "\n",
        "1. What shape does `points_c[:, None, :]-points_c[None, :, :]` have?\n",
        "\n",
        "(C, C, 2)\n",
        "\n",
        "1. What shape would `points_a[:, None, :]-points_b[None, :, :]` have?\n",
        "\n",
        "(A, B, 2)\n",
        "\n",
        "Moving on...\n",
        "\n",
        "`((points_c[:, None, :]-points_c[None, :, :])**2).sum(axis=2)**.5`\n",
        "\n",
        "\n",
        "d(a, b) = (((a[0]-b[0])**2+(a[1]-b[1])**2).sum()**.5\n",
        "\n",
        "\n",
        "* The `**2` just squares every element in the array\n",
        "* The `.sum(axis=...)` method (or `np.sum(..., axis=...)`) sums all elements along a dimnsion.  \n",
        "* The `**.5` just takes the square root of every element in the array.\n",
        "\n",
        "\n",
        "\n",
        "\n",
        "**Quiz**\n",
        "\n",
        "If `x` has shape `(4, 5, 6)`: \n",
        "* What shape does `x.sum(axis=2)` have?  (4, 5)\n",
        "* What shape does `x.sum(axis=1)` have?  (4,6)\n",
        "* What shape does `x.sum(axis=0)` have?  (5,6)\n",
        "* What shape does `x.sum(axis=2).sum(axis=1)`  (4, ) have?\n",
        "* What shape does `x.sum(axis=0).sum(axis=1)` have?  (5, )\n",
        "\n",
        "... So Finally \n",
        "\n",
        "\n",
        "```\n",
        "distance_mat = ((points_c[:, None, :]-points_c[None, :, :])**2).sum(axis=2)**.5\n",
        "```\n",
        "points_c (C,2) \n",
        "\n",
        "\n",
        "What shape should `distance_mat` have? (C,C)\n"
      ]
    },
    {
      "cell_type": "markdown",
      "metadata": {
        "id": "OLfpMDGmr2ER"
      },
      "source": [
        "# Slicing\n",
        "\n",
        "What if we don't care about the distance between every pair of points, but only between points in different groupd (a vs b)?\n",
        "\n",
        "```\n",
        "a=[4, 5, 6, 7, 8]\n",
        "a[2:5] = ???  [6,7,8]\n",
        "a[2:] = ??? [6,7,8]\n",
        "a[:5] = ???\n",
        "a[:-2] = ??? [4,5,6]\n",
        "a[1:-2] = ???\n",
        "a[::2] = ?? [4,6,8]\n",
        "a[::-1] = ??? [8,7,6,5,4]\n",
        "a[-2:-1] = ???\n",
        "a[-2:None] = ??? [7,8]\n",
        "\n",
        "a[3:18] = ???\n",
        "a[-3:1 = ??\n",
        "a[:, :] = ???\n",
        "a[..., [1, 2]] = ???\n",
        "\n",
        "if a is shape (n, 3) ... (n)\n",
        "if a is shape (n, m, 3)  (n, m)\n",
        "```\n",
        "You can also slice 2d arrays\n",
        "\n",
        "```\n",
        "a = [\n",
        "  [1, 2, 3, 4], \n",
        "  [5, 6, 7, 8], \n",
        "  [9, 10, 11, 12]\n",
        "  ]\n",
        "a[:2, :2] == ?[[1,2],[5,6]\n",
        "a[2:, 3:] == ??? [[12]]\n",
        "a[2:] == ??? [[9, 10, 11, 20][\n",
        "a[:, 3:] == [4][8][12]\n",
        "```\n",
        "Internal note - a slice MAY return a view of an array - not a copy.  So be careful - and in general - avoid assigning to slices in place unless you are sure you're not going to be using `a` anywhere else.  \n",
        "\n",
        "```\n",
        "a = np.zeros((2, 3))\n",
        "b=a[1, 1:]\n",
        "b+=1\n",
        "print(a)\n",
        "# [[0. 0. 0.]\n",
        "#  [0. 1. 1.]]\n",
        "```\n",
        "\n",
        "\n",
        "**Quiz:** \n",
        "\n",
        "How do we compute the matrix of distances from each point in `A` to each point in `B`? \n",
        "\n",
        "How could we extract these same distances from the already computed `distance_mat` with shape `((N+M), (N+M))`?"
      ]
    },
    {
      "cell_type": "markdown",
      "metadata": {
        "id": "jwYnZqSaCaOr"
      },
      "source": [
        "# Matrix multiplication\n",
        "\n",
        "A very common operation in all machine learning is matrix multipication.\n",
        "\n",
        "Multiplying a NxD matrix \"x\" with a DxH matrix \"w\" gives you a NxH matrix.\n",
        "\n",
        "In numpy, this can be done with `np.dot(x, w)` or the `@` operator."
      ]
    },
    {
      "cell_type": "code",
      "execution_count": null,
      "metadata": {
        "colab": {
          "base_uri": "https://localhost:8080/"
        },
        "id": "17pvilENC4iz",
        "outputId": "0dadacd7-4dc1-4d18-a147-a38205b94a5b"
      },
      "outputs": [
        {
          "name": "stdout",
          "output_type": "stream",
          "text": [
            "(3, 5)\n"
          ]
        }
      ],
      "source": [
        "x = np.random.randn(3, 4)\n",
        "w = np.random.randn(4, 5)\n",
        "result = x @ w \n",
        "\n",
        "print(result.shape)\n",
        "assert np.array_equal(result, np.dot(x, w))"
      ]
    },
    {
      "cell_type": "markdown",
      "metadata": {
        "id": "1ZA5PxA68wie"
      },
      "source": [
        "# More numpy functions\n",
        "\n",
        "```\n",
        "x = np.array([\n",
        "  [1, 2, 3], \n",
        "  [4, 5, 6]\n",
        "])\n",
        "# Predict the following \n",
        "np.sum(x, axis=1)\n",
        "np.max(x, axis=1)\n",
        "np.max(x, axis=0)\n",
        "np.cumsum(x, axis=1)\n",
        "np.prod(x, axis=0)\n",
        "np.argmax(x, axis=1)\n",
        "np.diff(x, axis=1)\n",
        "x.T\n",
        "x @ x.T\n",
        "np.einsum('ik,jk->ij', x, x)\n",
        "2**x\n",
        "```"
      ]
    },
    {
      "cell_type": "code",
      "execution_count": null,
      "metadata": {
        "colab": {
          "base_uri": "https://localhost:8080/",
          "height": 392
        },
        "id": "OFr_t9ggmdSI",
        "outputId": "4b6d5367-a3cb-4275-9384-3ae8a4875a8f"
      },
      "outputs": [
        {
          "ename": "ValueError",
          "evalue": "ignored",
          "output_type": "error",
          "traceback": [
            "\u001b[0;31m---------------------------------------------------------------------------\u001b[0m",
            "\u001b[0;31mValueError\u001b[0m                                Traceback (most recent call last)",
            "\u001b[0;32m<ipython-input-36-25fc4e93dcff>\u001b[0m in \u001b[0;36m<module>\u001b[0;34m\u001b[0m\n\u001b[1;32m      4\u001b[0m \u001b[0ma\u001b[0m \u001b[0;34m=\u001b[0m \u001b[0mnp\u001b[0m\u001b[0;34m.\u001b[0m\u001b[0marray\u001b[0m\u001b[0;34m(\u001b[0m\u001b[0;34m[\u001b[0m\u001b[0;34m[\u001b[0m\u001b[0;36m1\u001b[0m\u001b[0;34m,\u001b[0m \u001b[0;36m2\u001b[0m\u001b[0;34m,\u001b[0m \u001b[0;36m3\u001b[0m\u001b[0;34m]\u001b[0m\u001b[0;34m,\u001b[0m \u001b[0;34m[\u001b[0m\u001b[0;36m5\u001b[0m\u001b[0;34m,\u001b[0m \u001b[0;36m6\u001b[0m\u001b[0;34m,\u001b[0m \u001b[0;36m7\u001b[0m\u001b[0;34m]\u001b[0m\u001b[0;34m]\u001b[0m\u001b[0;34m)\u001b[0m\u001b[0;34m\u001b[0m\u001b[0;34m\u001b[0m\u001b[0m\n\u001b[1;32m      5\u001b[0m \u001b[0;34m\u001b[0m\u001b[0m\n\u001b[0;32m----> 6\u001b[0;31m \u001b[0mnp\u001b[0m\u001b[0;34m.\u001b[0m\u001b[0meinsum\u001b[0m\u001b[0;34m(\u001b[0m\u001b[0;34m'i ,j ->ij'\u001b[0m\u001b[0;34m,\u001b[0m \u001b[0ma\u001b[0m\u001b[0;34m,\u001b[0m \u001b[0ma\u001b[0m\u001b[0;34m)\u001b[0m\u001b[0;34m.\u001b[0m\u001b[0mshape\u001b[0m\u001b[0;34m\u001b[0m\u001b[0;34m\u001b[0m\u001b[0m\n\u001b[0m",
            "\u001b[0;32m<__array_function__ internals>\u001b[0m in \u001b[0;36meinsum\u001b[0;34m(*args, **kwargs)\u001b[0m\n",
            "\u001b[0;32m/usr/local/lib/python3.8/dist-packages/numpy/core/einsumfunc.py\u001b[0m in \u001b[0;36meinsum\u001b[0;34m(out, optimize, *operands, **kwargs)\u001b[0m\n\u001b[1;32m   1357\u001b[0m         \u001b[0;32mif\u001b[0m \u001b[0mspecified_out\u001b[0m\u001b[0;34m:\u001b[0m\u001b[0;34m\u001b[0m\u001b[0;34m\u001b[0m\u001b[0m\n\u001b[1;32m   1358\u001b[0m             \u001b[0mkwargs\u001b[0m\u001b[0;34m[\u001b[0m\u001b[0;34m'out'\u001b[0m\u001b[0;34m]\u001b[0m \u001b[0;34m=\u001b[0m \u001b[0mout\u001b[0m\u001b[0;34m\u001b[0m\u001b[0;34m\u001b[0m\u001b[0m\n\u001b[0;32m-> 1359\u001b[0;31m         \u001b[0;32mreturn\u001b[0m \u001b[0mc_einsum\u001b[0m\u001b[0;34m(\u001b[0m\u001b[0;34m*\u001b[0m\u001b[0moperands\u001b[0m\u001b[0;34m,\u001b[0m \u001b[0;34m**\u001b[0m\u001b[0mkwargs\u001b[0m\u001b[0;34m)\u001b[0m\u001b[0;34m\u001b[0m\u001b[0;34m\u001b[0m\u001b[0m\n\u001b[0m\u001b[1;32m   1360\u001b[0m \u001b[0;34m\u001b[0m\u001b[0m\n\u001b[1;32m   1361\u001b[0m     \u001b[0;31m# Check the kwargs to avoid a more cryptic error later, without having to\u001b[0m\u001b[0;34m\u001b[0m\u001b[0;34m\u001b[0m\u001b[0;34m\u001b[0m\u001b[0m\n",
            "\u001b[0;31mValueError\u001b[0m: operand has more dimensions than subscripts given in einstein sum, but no '...' ellipsis provided to broadcast the extra dimensions."
          ]
        }
      ],
      "source": [
        "a = np.array([3,1,4])\n",
        "b = np.array([2,-3, 1])\n",
        "\n",
        "a = np.array([[1, 2, 3], [5, 6, 7]])\n",
        "\n",
        "np.einsum('i ,j ->ij', a, a).shape"
      ]
    },
    {
      "cell_type": "markdown",
      "metadata": {
        "id": "CmaytLCs-4BF"
      },
      "source": [
        "# Has everybody learned something?\n",
        "\n",
        "If not... \n",
        "\n",
        "```\n",
        "x = np.array([2, 4, 8, 2, 6, 1, 4, 7, 2])\n",
        "g = np.array([0, 0, 3, 3, 1, 2, 2, 2, 2])\n",
        "```\n",
        "... Find the average of all x's belonging to each group with no python loops."
      ]
    },
    {
      "cell_type": "markdown",
      "metadata": {
        "id": "2IQP2n73Slo2"
      },
      "source": [
        "# Have you still not learned anything?\n",
        "\n",
        "Ok, advanced indexing.. almost nobody knows about that ...\n",
        "\n"
      ]
    },
    {
      "cell_type": "code",
      "execution_count": null,
      "metadata": {
        "id": "lK3yK2FYTIxA"
      },
      "outputs": [],
      "source": [
        "# ---- Selecting a list of elements from an array -----\n",
        "a = np.array([\n",
        "    [1, 2, 3], \n",
        "    [4, 5, 6],\n",
        "    [7, 8, 9],\n",
        "    [10, 11, 12]   \n",
        "])\n",
        "# and a \"per_row_column_indices_array\"\n",
        "per_row_column_indices = [2, 0, 1, 1]\n",
        "\n",
        "# Select the given column in each row so that you end up with [3, 4, 8, 11]\n",
        "\n",
        "# ... In class exersize ....\n",
        "\n",
        "\n",
        "# ---- Still have't learned anything? ----\n",
        "\n",
        "# Ok, index broadcasting.\n",
        "\n",
        "# Suppose we want to break up the above array into 3x3 \"patches\" - so that a[i, j] \n",
        "# returns the 3x3 patch of pixels around [i, j], with edges replicated.\n",
        "# \n",
        "# a_patches[0, 0] == [\n",
        "#   [1, 1, 2], \n",
        "#   [1, 1, 2], \n",
        "#   [4, 4, 5]\n",
        "# ]\n",
        "\n",
        "# a_patches[1, 1] == [\n",
        "#   [1, 2, 3], \n",
        "#   [4, 5, 6], \n",
        "#   [7, 8, 9]\n",
        "# ]\n",
        "i_ixs = np.clip(np.arange(a.shape[0])[:, None, None, None] + np.arange(-1, 2)[None, None, :, None], 0, a.shape[0]-1)\n",
        "j_ixs = np.clip(np.arange(a.shape[1])[None, :, None, None] + np.arange(-1, 2)[None, None, None, :], 0, a.shape[1]-1)\n",
        "a_patches = a[i_ixs, j_ixs]\n",
        "print(f\"a_patches.shape = {a_patches.shape}\")\n",
        "print(f\"a_patches[0, 0]=\\n{a_patches[0, 0]}\")\n",
        "print(f\"a_patches[1, 1]=\\n{a_patches[1, 1]}\")"
      ]
    },
    {
      "cell_type": "markdown",
      "metadata": {
        "id": "yfq3IyS78Iq9"
      },
      "source": [
        "# Backpropagation \n",
        "\n",
        "Almost all machine learning involves computing or estimating gradients of parameters with respect to some loss. \n",
        "\n",
        "E.g., Lets set up the most basic possible machine learning problem\n",
        "\n",
        "$x=4$ : Our input data\n",
        "\n",
        "$y=13$: Our target data\n",
        "\n",
        "$w=3$: Our parameters\n",
        "\n",
        "$\\hat y = x w$ : Our prediction\n",
        "\n",
        "$\\mathcal L = (y-\\hat y)^2$: Our loss\n",
        "\n",
        "Our goal: Find the value of parameter $w$ what minimizes our loss $\\mathcal L$"
      ]
    },
    {
      "cell_type": "markdown",
      "metadata": {
        "id": "aqS2yFJvkh0d"
      },
      "source": [
        "# Solving Analytically\n",
        "\n",
        "In simple cases like this, we can just solve for w.  \n",
        "\n",
        "At the optimal loss, \n",
        "\n",
        "$\\frac{\\partial \\mathcal L}{\\partial w} = 0$\n",
        "\n",
        "So if:\n",
        "\n",
        "$$\n",
        "\\begin{align}\n",
        "0=\\frac{\\partial \\mathcal L}{\\partial w} &= \\frac{\\partial}{\\partial w} (y-\\hat y)^2 \\\\\n",
        "&=\\frac{\\partial \\mathcal L}{\\partial w}(y-xw)^2\\\\\n",
        "&=\\frac{\\partial \\mathcal L}{\\partial w}(y^2-2xwy+x^2w^2) \\\\\n",
        "&=-2xy+2x^2w \\\\\n",
        "→ w &= - y/x = 13/4 = 3.25\n",
        "\\end{align}\n",
        "$$"
      ]
    },
    {
      "cell_type": "markdown",
      "metadata": {
        "id": "RRSbMkpNovOp"
      },
      "source": [
        "# Why the analytical approach doesn't work every time:\n",
        "\n",
        "What about when we use a more complex model (like a not-very-deep neural network): \n",
        "\n",
        "$\\hat y = w_2 \\sigma( x w_1)$\n",
        "\n",
        "Where $\\sigma(u)=1/(1+e^{-u})$ is some \"squashing\" nonlinearity?\n",
        "\n",
        "Try solving $\\frac{\\partial \\mathcal L}{\\partial w_1} = 0$\n",
        "\n",
        "... (Frantic scribbling of Greek symbols) ...\n",
        "\n",
        "You can't - there is no closed-form equation solving $w_1$ in this case. \n",
        "\n",
        "That doesn't mean there is *no solution* - it just means you can't compute it by crunching an equation.  \n",
        "\n",
        "There may actually be many values of $w_1$ for which $\\frac{\\partial \\mathcal L}{\\partial w} = 0$"
      ]
    },
    {
      "cell_type": "code",
      "execution_count": null,
      "metadata": {
        "id": "V6GDBDhvqAxW"
      },
      "outputs": [],
      "source": []
    },
    {
      "cell_type": "markdown",
      "metadata": {
        "id": "8RdpQHvjsPWo"
      },
      "source": [
        "# Then what do we do?\n",
        "\n",
        "We may not be able to directly compute $w$ when $\\frac{\\partial \\mathcal L}{\\partial w} = 0$, but we can compute $\\frac{\\partial \\mathcal L}{\\partial w}$.  \n",
        "\n",
        "And so long as our function is smooth (ie - $\\frac{\\partial \\mathcal L}{\\partial w} = 0$ is finite everywhere - which is true by design in all deep networks), we can approach a point for which $\\frac{\\partial \\mathcal L}{\\partial w} = 0$ by taking tiny steps in the direction opposite to $\\frac{\\partial \\mathcal L}{\\partial w}$."
      ]
    },
    {
      "cell_type": "markdown",
      "metadata": {
        "id": "T0RFtX8itWRF"
      },
      "source": [
        "# Ok, so how do we get $\\frac{\\partial \\mathcal L}{\\partial w}$ then?\n",
        "\n",
        "Backpropagation.  Which is just a fancy name for using the chain-rule in calculus to go backwards from where $\\mathcal L$ is computed to $w$.\n",
        "\n",
        "$$\n",
        "\\frac{\\partial \\mathcal L}{\\partial w} = \\frac{\\partial \\mathcal L}{\\partial \\hat y} \\frac{\\partial \\hat y}{\\partial w}\n",
        "$$\n",
        "\n",
        "... Skipping details here on how this is computed ... "
      ]
    },
    {
      "cell_type": "markdown",
      "metadata": {
        "id": "2Gx9_X32uG7p"
      },
      "source": [
        "# Ok, lets do this with Numpy\n",
        "\n",
        "You can of course implement backpropagation with Numpy.  You just need to be very careful - mess up the math and your gradients will be wrong.  \n",
        "\n",
        "```\n",
        "\"Backpropagation is robust to programming errors\"\n",
        "   - Geoff Hinton\n",
        "```\n",
        "\n",
        "Often these erros are sneaky because the system will kind of work despite them.\n",
        "\n",
        "If only there were some numerical library that could take care of computing gradients without us having to be constantly double-checking our code... \n",
        "\n",
        "If only there were something like..."
      ]
    },
    {
      "cell_type": "code",
      "execution_count": null,
      "metadata": {
        "id": "EvAGiPiR8iov"
      },
      "outputs": [],
      "source": [
        "# PyTorch!  (or TensorFlow)\n",
        "\n",
        "import torch\n",
        "from torch.autograd import Variable, grad\n",
        "\n",
        "x = torch.tensor(4.0)\n",
        "w = torch.tensor(3.0, requires_grad=True)\n",
        "target = torch.tensor(13.0)\n",
        "\n",
        "\n",
        "prediction = x*w \n",
        "prediction_error = target-prediction\n",
        "loss = prediction_error**2\n",
        "d_loss_d_w, = grad(outputs=loss, inputs=w)  # Predict - is this going to be negative or positive?\n"
      ]
    },
    {
      "cell_type": "code",
      "execution_count": null,
      "metadata": {
        "id": "ekaxTE9ZE3Tb"
      },
      "outputs": [],
      "source": [
        "for i in range(10):\n",
        "  print(f\"Iter: {i}, Guess: {prediction:.2f}, Target: {target}, Error: {prediction_error:.2f}, Loss: {loss:.4f}, dLoss/dw={d_loss_d_w:.2f}\")\n",
        "\n",
        "  # Apply the update\n",
        "  learning_rate = 0.01 \n",
        "  w.data = w.data - learning_rate * d_loss_d_w\n",
        "\n",
        "  # Recompute the gradient\n",
        "  prediction = x*w \n",
        "  prediction_error = target-prediction\n",
        "  loss = prediction_error**2\n",
        "  d_loss_d_w, = grad(outputs=loss, inputs=w)"
      ]
    },
    {
      "cell_type": "markdown",
      "metadata": {
        "id": "cGd3OWUQvuO0"
      },
      "source": [
        "# PyTorch (and Tensorflow) are also array libraries\n",
        "\n",
        "... With very similar syntax to numpy"
      ]
    },
    {
      "cell_type": "code",
      "execution_count": null,
      "metadata": {
        "id": "MmtrDEW1v1rY"
      },
      "outputs": [],
      "source": [
        "import torch\n",
        "\n",
        "# Pytorch has very similar syntax to numpy\n",
        "a = torch.randn(N, D) + torch.tensor(mu_a)\n",
        "b = torch.randn(M, D) + torch.tensor(mu_b)\n",
        "c = torch.cat([a, b], axis=0)\n",
        "d = ((c[:, None, :]-c[None, :, :])**2).sum(axis=2)**.5\n",
        "plot_everything(a, b, d)"
      ]
    },
    {
      "cell_type": "markdown",
      "metadata": {
        "id": "ukB3UIaVKf31"
      },
      "source": [
        "# Ok, lets do something semi-real.  \n",
        "\n",
        "Remember the data we just made?  We can turn that into a classification problem: Predict whether each point belongs to A or B.\n",
        "\n",
        "Below, we do this with only a training set.  "
      ]
    },
    {
      "cell_type": "code",
      "execution_count": null,
      "metadata": {
        "colab": {
          "base_uri": "https://localhost:8080/",
          "height": 294
        },
        "id": "VxN2R0C4Kq5Y",
        "outputId": "b8ba5fee-1bfd-43db-f27b-059d945fb4ae"
      },
      "outputs": [
        {
          "data": {
            "image/png": "[encoded data removed]",
            "text/plain": [
              "<Figure size 432x288 with 1 Axes>"
            ]
          },
          "metadata": {
            "needs_background": "light"
          },
          "output_type": "display_data"
        },
        {
          "data": {
            "image/png": "[encoded data removed]",
            "text/plain": [
              "<Figure size 432x288 with 1 Axes>"
            ]
          },
          "metadata": {
            "needs_background": "light"
          },
          "output_type": "display_data"
        }
      ],
      "source": [
        "# Pytorch has very similar syntax to numpy\n",
        "a = torch.randn(N, D) + torch.tensor(mu_a)\n",
        "b = torch.randn(M, D) + torch.tensor(mu_b)\n",
        "c = torch.cat([a, b], axis=0)\n",
        "\n",
        "\n",
        "labels = (torch.arange(0, N+M)>=N).float()\n",
        "\n",
        "plot_everything(c[labels==0], c[labels==1], d)"
      ]
    },
    {
      "cell_type": "code",
      "execution_count": null,
      "metadata": {
        "id": "__cEQ3odLcRy"
      },
      "outputs": [],
      "source": [
        "# Initialize Training training\n",
        "w = torch.zeros((2, 1), requires_grad=True)\n",
        "b = torch.zeros((1, 1), requires_grad=True)\n",
        "iteration = 0"
      ]
    },
    {
      "cell_type": "code",
      "execution_count": null,
      "metadata": {
        "colab": {
          "base_uri": "https://localhost:8080/",
          "height": 380
        },
        "id": "v0uEP62COuPD",
        "outputId": "e0872f54-fc0a-45c9-8820-740bb17895cb"
      },
      "outputs": [
        {
          "name": "stdout",
          "output_type": "stream",
          "text": [
            "Iteration 24\n",
            "Predicted Labels: [0 0 0 0 0 1 1 1 1 1 1 1]\n",
            "Ground Tr Labels: [0 0 0 0 0 1 1 1 1 1 1 1]\n",
            "Prediction Score: 100.00%\n",
            "Loss: 0.1194\n"
          ]
        },
        {
          "data": {
            "image/png": "[encoded data removed]",
            "text/plain": [
              "<Figure size 432x288 with 1 Axes>"
            ]
          },
          "metadata": {
            "needs_background": "light"
          },
          "output_type": "display_data"
        },
        {
          "data": {
            "image/png": "[encoded data removed]",
            "text/plain": [
              "<Figure size 432x288 with 1 Axes>"
            ]
          },
          "metadata": {
            "needs_background": "light"
          },
          "output_type": "display_data"
        }
      ],
      "source": [
        "# Training loop\n",
        "\n",
        "# Forward pass - compute predictions and loss\n",
        "iteration+=1\n",
        "prediction = torch.nn.Sigmoid()(c @ w + b)\n",
        "predicted_labels = (prediction>0.5)[:, 0]\n",
        "loss = torch.nn.BCELoss()(prediction, labels[:, None])\n",
        "\n",
        "print(f\"Iteration {iteration}\")\n",
        "print(f\"Predicted Labels: {predicted_labels.numpy().astype(int)}\")\n",
        "print(f\"Ground Tr Labels: {labels.numpy().astype(int)}\")\n",
        "print(f\"Prediction Score: {(predicted_labels==labels).float().mean():.2%}\")\n",
        "print(f\"Loss: {loss:.4f}\")\n",
        "\n",
        "# Backward pass - compute gradients and update parameters \n",
        "d_loss_d_w, d_loss_d_b = grad(loss, inputs=[w, b])\n",
        "learning_rate = 0.5\n",
        "w.data = w.data - learning_rate*d_loss_d_w\n",
        "b.data = b.data - learning_rate*d_loss_d_b\n",
        "\n",
        "# Plot the predicted \n",
        "plot_everything(c[predicted_labels==0], c[predicted_labels==1], d)"
      ]
    },
    {
      "cell_type": "markdown",
      "metadata": {
        "id": "jKmoDvysRO3s"
      },
      "source": [
        "# Bonus Task 1:\n",
        "\n",
        "Now make a separate held-out validation set and evaluate your loss and prediction error, plotting the learning curves over time.\n"
      ]
    },
    {
      "cell_type": "markdown",
      "metadata": {
        "id": "kMre5BBiVHMT"
      },
      "source": [
        "# Bonus Task 2:\n",
        "\n",
        "Given the knowledge that the data is generated from a mixture of 2 gaussians with variance of 1, can you train a generative model of the data?"
      ]
    }
  ],
  "metadata": {
    "colab": {
      "provenance": []
    },
    "kernelspec": {
      "display_name": "Python 3",
      "name": "python3"
    },
    "language_info": {
      "name": "python"
    }
  },
  "nbformat": 4,
  "nbformat_minor": 0
}
