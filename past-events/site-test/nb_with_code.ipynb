{
 "cells": [
  {
   "cell_type": "markdown",
   "id": "ae80fc0e",
   "metadata": {},
   "source": [
    "## Example notebook with code"
   ]
  },
  {
   "cell_type": "code",
   "execution_count": 24,
   "id": "3ad1b36f",
   "metadata": {},
   "outputs": [],
   "source": [
    "import numpy as np\n",
    "import matplotlib.pyplot as plt\n",
    "import pandas as pd"
   ]
  },
  {
   "cell_type": "markdown",
   "id": "7d87e907",
   "metadata": {},
   "source": [
    "### Simple notebook to show plotting of a line using numpy and matplotlib"
   ]
  },
  {
   "cell_type": "markdown",
   "id": "d5718886",
   "metadata": {},
   "source": [
    "The following function describes a straight line , where m is the gradient and c is the y intercept:"
   ]
  },
  {
   "cell_type": "markdown",
   "id": "a8302a0a",
   "metadata": {},
   "source": [
    "$$\n",
    "\\large y = mx + c\n",
    "$$"
   ]
  },
  {
   "cell_type": "markdown",
   "id": "cd2be338",
   "metadata": {},
   "source": [
    "We can show that this equation plots a straight line by experiment: making a set of inputs x, and calculating the corresponding values of y, a function of x:"
   ]
  },
  {
   "cell_type": "code",
   "execution_count": 54,
   "id": "e9350192",
   "metadata": {},
   "outputs": [
    {
     "name": "stdout",
     "output_type": "stream",
     "text": [
      "m = 2, c = -4\n"
     ]
    }
   ],
   "source": [
    "x = np.linspace(0,49)\n",
    "m = 2\n",
    "c = -4\n",
    "print(f'm = {m}, c = {c}')"
   ]
  },
  {
   "cell_type": "code",
   "execution_count": 55,
   "id": "1ec99e3e",
   "metadata": {},
   "outputs": [
    {
     "data": {
      "text/plain": [
       "array([ 0.,  1.,  2.,  3.,  4.,  5.,  6.,  7.,  8.,  9., 10., 11., 12.,\n",
       "       13., 14., 15., 16., 17., 18., 19., 20., 21., 22., 23., 24., 25.,\n",
       "       26., 27., 28., 29., 30., 31., 32., 33., 34., 35., 36., 37., 38.,\n",
       "       39., 40., 41., 42., 43., 44., 45., 46., 47., 48., 49.])"
      ]
     },
     "execution_count": 55,
     "metadata": {},
     "output_type": "execute_result"
    }
   ],
   "source": [
    "x"
   ]
  },
  {
   "cell_type": "code",
   "execution_count": 56,
   "id": "e41a3d12",
   "metadata": {},
   "outputs": [
    {
     "data": {
      "text/plain": [
       "array([-4., -2.,  0.,  2.,  4.,  6.,  8., 10., 12., 14., 16., 18., 20.,\n",
       "       22., 24., 26., 28., 30., 32., 34., 36., 38., 40., 42., 44., 46.,\n",
       "       48., 50., 52., 54., 56., 58., 60., 62., 64., 66., 68., 70., 72.,\n",
       "       74., 76., 78., 80., 82., 84., 86., 88., 90., 92., 94.])"
      ]
     },
     "execution_count": 56,
     "metadata": {},
     "output_type": "execute_result"
    }
   ],
   "source": [
    "y = m*x+c\n",
    "y"
   ]
  },
  {
   "cell_type": "code",
   "execution_count": 59,
   "id": "0ccd781d",
   "metadata": {
    "scrolled": true
   },
   "outputs": [
    {
     "data": {
      "image/png": "[encoded data removed]",
      "text/plain": [
       "<Figure size 432x288 with 1 Axes>"
      ]
     },
     "metadata": {
      "needs_background": "light"
     },
     "output_type": "display_data"
    }
   ],
   "source": [
    "plt.plot(x,y)\n",
    "plt.plot(x,x)\n",
    "plt.ylim(0,50)\n",
    "plt.xlim(0,50)\n",
    "plt.title('example linear plots')\n",
    "plt.legend(['y=2x-4', 'y=x'])\n",
    "plt.grid()\n",
    "plt.show()"
   ]
  },
  {
   "cell_type": "markdown",
   "id": "f37f735e",
   "metadata": {},
   "source": [
    "The orange line is where y = x\n",
    "\n",
    "The blue line is where y = 2x - 4"
   ]
  }
 ],
 "metadata": {
  "kernelspec": {
   "display_name": "Python 3 (ipykernel)",
   "language": "python",
   "name": "python3"
  },
  "language_info": {
   "codemirror_mode": {
    "name": "ipython",
    "version": 3
   },
   "file_extension": ".py",
   "mimetype": "text/x-python",
   "name": "python",
   "nbconvert_exporter": "python",
   "pygments_lexer": "ipython3",
   "version": "3.10.5"
  }
 },
 "nbformat": 4,
 "nbformat_minor": 5
}
